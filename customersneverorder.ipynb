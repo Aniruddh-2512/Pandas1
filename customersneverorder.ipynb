{
 "cells": [
  {
   "cell_type": "code",
   "execution_count": null,
   "id": "f81924e7",
   "metadata": {},
   "outputs": [],
   "source": [
    "import pandas as pd\n",
    "\n",
    "# Assume 'Customers' and 'Orders' DataFrames are already defined\n",
    "result = Customers[~Customers['id'].isin(Orders['customerId'])][['name']]\n",
    "result\n"
   ]
  }
 ],
 "metadata": {},
 "nbformat": 4,
 "nbformat_minor": 5
}
