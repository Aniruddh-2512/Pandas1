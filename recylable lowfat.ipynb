{
 "cells": [
  {
   "cell_type": "code",
   "execution_count": null,
   "id": "1a96a26c",
   "metadata": {},
   "outputs": [],
   "source": [
    "import pandas as pd\n",
    "\n",
    "# Assume 'products' DataFrame is already defined\n",
    "result = products[(products['low_fats'] == 'Y') & (products['recyclable'] == 'Y')]\n",
    "result\n"
   ]
  }
 ],
 "metadata": {},
 "nbformat": 4,
 "nbformat_minor": 5
}
