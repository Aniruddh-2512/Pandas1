{
 "cells": [
  {
   "cell_type": "code",
   "execution_count": null,
   "id": "c3df2908",
   "metadata": {},
   "outputs": [],
   "source": [
    "import pandas as pd\n",
    "\n",
    "# Assume 'world' DataFrame is already defined\n",
    "big_countries = world[(world['area'] >= 300000) | (world['population'] >= 25000000)][['name', 'population', 'area']]\n",
    "big_countries\n"
   ]
  }
 ],
 "metadata": {},
 "nbformat": 4,
 "nbformat_minor": 5
}
